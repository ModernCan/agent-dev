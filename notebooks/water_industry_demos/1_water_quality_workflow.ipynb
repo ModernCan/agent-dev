{
 "cells": [
  {
   "cell_type": "markdown",
   "id": "80242797",
   "metadata": {},
   "source": [
    "#"
   ]
  },
  {
   "cell_type": "code",
   "execution_count": 1,
   "id": "6d2252b7",
   "metadata": {},
   "outputs": [
    {
     "name": "stdout",
     "output_type": "stream",
     "text": [
      "Added /Users/shervin/Documents/code/github_moderncan/agent-dev to Python path\n",
      "  System: darwin\n",
      "  Platform: macOS-15.5-arm64-arm-64bit\n",
      "  Python version: 3.11.12\n",
      "  System Execution (Python) path: .venv/bin/python\n",
      "  Last update: 2025-05-20\n"
     ]
    }
   ],
   "source": [
    "# Add project root to Python path\n",
    "import sys\n",
    "import os\n",
    "import logging\n",
    "import platform\n",
    "# import json\n",
    "from datetime import date\n",
    "\n",
    "\n",
    "\n",
    "# Get the absolute path to the project root directory\n",
    "project_root = os.path.abspath(os.path.join(os.path.dirname('__file__'), '../..'))  # Adjust path as needed\n",
    "# Add to path if not already there\n",
    "if project_root not in sys.path:\n",
    "    sys.path.insert(0, project_root)\n",
    "    print(f\"Added {project_root} to Python path\")\n",
    "\n",
    "#\n",
    "from water_industry import WaterQualityWorkflow, WaterQualityState\n",
    "\n",
    "print(f\"  System: {sys.platform}\")\n",
    "print(f\"  Platform: {platform.platform()}\")\n",
    "print(f\"  Python version: {platform.python_version()}\")\n",
    "print(f\"  System Execution (Python) path: {'/'.join(sys.executable.strip('/').split('/')[-3:])}\")\n",
    "print(f\"  Last update: {date.today().strftime('%Y-%m-%d')}\")"
   ]
  },
  {
   "cell_type": "code",
   "execution_count": 2,
   "id": "e8a3f216",
   "metadata": {},
   "outputs": [],
   "source": [
    "# Configure logging\n",
    "logging.basicConfig(level=logging.INFO,\n",
    "                    format='%(asctime)s - %(name)s - %(levelname)s - %(message)s')\n",
    "logger = logging.getLogger(__name__)"
   ]
  },
  {
   "cell_type": "code",
   "execution_count": 3,
   "id": "099a9ba0",
   "metadata": {},
   "outputs": [],
   "source": [
    "water_quality_workflow = WaterQualityWorkflow(debug_mode=True)"
   ]
  },
  {
   "cell_type": "code",
   "execution_count": 4,
   "id": "d7fc45da",
   "metadata": {},
   "outputs": [
    {
     "name": "stderr",
     "output_type": "stream",
     "text": [
      "2025-05-20 12:24:35,953 - __main__ - INFO - Workflow visualization:\n"
     ]
    },
    {
     "data": {
      "image/png": "[encoded data removed]",
      "text/plain": [
       "<IPython.core.display.Image object>"
      ]
     },
     "metadata": {},
     "output_type": "display_data"
    }
   ],
   "source": [
    "logger.info(\"Workflow visualization:\")\n",
    "water_quality_workflow.visualize()"
   ]
  },
  {
   "cell_type": "code",
   "execution_count": 5,
   "id": "57135e15",
   "metadata": {},
   "outputs": [],
   "source": [
    "# Example water quality parameters\n",
    "sample_data = {\n",
    "    \"pH\": 7.2,\n",
    "    \"turbidity\": 1.8,  # NTU\n",
    "    \"total_dissolved_solids\": 280,  # mg/L\n",
    "    \"dissolved_oxygen\": 7.5,  # mg/L\n",
    "    \"temperature\": 22.3,  # °C\n",
    "    \"chlorine\": 0.7,  # mg/L\n",
    "    \"lead\": 0.008,  # mg/L\n",
    "    \"nitrates\": 3.2,  # mg/L\n",
    "    \"phosphates\": 0.15,  # mg/L\n",
    "    \"total_coliform\": 2,  # CFU/100mL\n",
    "    \"e_coli\": 0,  # CFU/100mL\n",
    "}"
   ]
  },
  {
   "cell_type": "code",
   "execution_count": 7,
   "id": "f4c23cff",
   "metadata": {},
   "outputs": [
    {
     "name": "stderr",
     "output_type": "stream",
     "text": [
      "2025-05-20 12:27:29,077 - httpx - INFO - HTTP Request: POST https://api.anthropic.com/v1/messages \"HTTP/1.1 200 OK\"\n"
     ]
    },
    {
     "name": "stdout",
     "output_type": "stream",
     "text": [
      "INITIAL ANALYSIS COMPLETED:\n",
      "Character count: 2143\n",
      "First 100 characters: Here's a detailed analysis of the water quality parameters provided:\n",
      "\n",
      "1. pH Analysis (7.2):\n",
      "- The pH...\n",
      "\n",
      "QUALITY CHECK RESULTS:\n",
      "Topics found (4/4): pH, turbidity, dissolved solids, contaminant\n",
      "Length check: 2143 characters (minimum: 200)\n",
      "Topics check: 4 topics (minimum: 3)\n",
      "Overall result: Pass\n"
     ]
    },
    {
     "name": "stderr",
     "output_type": "stream",
     "text": [
      "2025-05-20 12:27:40,648 - httpx - INFO - HTTP Request: POST https://api.anthropic.com/v1/messages \"HTTP/1.1 200 OK\"\n",
      "2025-05-20 12:27:49,864 - httpx - INFO - HTTP Request: POST https://api.anthropic.com/v1/messages \"HTTP/1.1 200 OK\"\n",
      "2025-05-20 12:28:03,207 - httpx - INFO - HTTP Request: POST https://api.anthropic.com/v1/messages \"HTTP/1.1 200 OK\"\n"
     ]
    },
    {
     "name": "stdout",
     "output_type": "stream",
     "text": [
      "\n",
      "WORKFLOW COMPLETED\n",
      "State keys: ['sample_data', 'initial_analysis', 'treatment_recommendations', 'compliance_evaluation', 'final_report']\n",
      "Error generating chart: name 'generate_report_chart' is not defined\n",
      "\n",
      "WATER QUALITY FINAL REPORT:\n",
      "===========================\n",
      "COMPREHENSIVE WATER QUALITY REPORT\n",
      "\n",
      "EXECUTIVE SUMMARY:\n",
      "Based on the analyzed parameters, the water quality is generally good and meets most regulatory requirements. The sample shows appropriate pH levels, acceptable turbidity, and good dissolved oxygen content. While most parameters are within compliance, there are minor concerns regarding trace coliform presence and detectable lead levels that require ongoing monitoring.\n",
      "\n",
      "DETAILED FINDINGS:\n",
      "\n",
      "Physical Parameters:\n",
      "• pH: 7.2 - Optimal range\n",
      "• Turbidity: 1.8 NTU - Meets standards\n",
      "• Temperature: 22.3°C - Acceptable\n",
      "• TDS: 280 mg/L - Well within limits\n",
      "\n",
      "Chemical Parameters:\n",
      "• Dissolved Oxygen: 7.5 mg/L - Excellent\n",
      "• Chlorine: 0.7 mg/L - Appropriate\n",
      "• Lead: 0.008 mg/L - Below action level\n",
      "• Nitrates: 3.2 mg/L - Satisfactory\n",
      "• Phosphates: 0.15 mg/L - Moderate\n",
      "\n",
      "Biological Parameters:\n",
      "• Total Coliform: 2 CFU/100mL - Requires monitoring\n",
      "• E. coli: 0 CFU/100mL - Compliant\n",
      "\n",
      "COMPLIANCE STATUS:\n",
      "The water system is substantially compliant with regulatory requirements, with two areas requiring attention:\n",
      "1. Coliform presence (though minimal)\n",
      "2. Detectable lead levels (though below action level)\n",
      "\n",
      "RECOMMENDED ACTIONS:\n",
      "\n",
      "Immediate:\n",
      "1. Implement enhanced coliform monitoring\n",
      "2. Document current treatment processes\n",
      "3. Review disinfection protocols\n",
      "\n",
      "Short-term (1-3 months):\n",
      "1. Develop comprehensive corrosion control program\n",
      "2. Update monitoring schedules\n",
      "3. Review emergency response procedures\n",
      "\n",
      "Long-term (3-12 months):\n",
      "1. Consider infrastructure improvements\n",
      "2. Develop lead service line inventory\n",
      "3. Implement SCADA system upgrades\n",
      "\n",
      "MONITORING REQUIREMENTS:\n",
      "\n",
      "Daily:\n",
      "- Chlorine residual\n",
      "- Turbidity\n",
      "- pH\n",
      "\n",
      "Weekly:\n",
      "- Bacterial testing\n",
      "- Operational parameters\n",
      "\n",
      "Monthly:\n",
      "- Chemical analysis\n",
      "- Treatment efficiency review\n",
      "\n",
      "Quarterly:\n",
      "- Lead testing\n",
      "- Comprehensive water quality assessment\n",
      "\n",
      "TREATMENT RECOMMENDATIONS:\n",
      "\n",
      "Current processes to maintain:\n",
      "1. Sedimentation/filtration\n",
      "2. Chemical disinfection\n",
      "3. pH control\n",
      "4. Corrosion control\n",
      "\n",
      "Suggested improvements:\n",
      "1. Enhanced coagulation/flocculation\n",
      "2. Multi-barrier disinfection approach\n",
      "3. Advanced filtration systems\n",
      "4. Improved distribution system monitoring\n",
      "\n",
      "CONCLUSION:\n",
      "The water quality meets most regulatory requirements but requires vigilant monitoring and some process improvements to maintain and enhance quality standards. Regular review and updates of treatment processes are recommended to ensure continued compliance and optimal water quality.\n",
      "\n",
      "NEXT STEPS:\n",
      "1. Implement enhanced monitoring program\n",
      "2. Update treatment protocols\n",
      "3. Prepare regulatory compliance documentation\n",
      "4. Schedule operator training\n",
      "5. Plan system improvements\n",
      "\n",
      "This report should be reviewed quarterly and updated annually to ensure continued compliance and optimal water quality management.\n"
     ]
    }
   ],
   "source": [
    "# Run the workflow\n",
    "result = water_quality_workflow.run(sample_data, generate_chart=False)\n",
    "\n",
    "# If the workflow stopped early, try again with bypass_quality_check\n",
    "if 'final_report' not in result:\n",
    "    print(\"\\nRetrying with quality check bypass...\\n\")\n",
    "    # Don't generate a chart on the first try, only on the retry\n",
    "    result = water_quality_workflow.run(\n",
    "        sample_data, bypass_quality_check=True, generate_chart=False)\n",
    "else:\n",
    "    # Only generate a chart if we succeeded on the first try\n",
    "    if 'final_report' in result:\n",
    "        try:\n",
    "            chart = generate_report_chart(\n",
    "                {k: v for k, v in sample_data.items()\n",
    "                    if k in ['pH', 'turbidity', 'total_dissolved_solids', 'chlorine', 'dissolved_oxygen']},\n",
    "                chart_type=\"bar\",\n",
    "                title=\"Key Water Quality Parameters\"\n",
    "            )\n",
    "            display(chart)\n",
    "            print(\"Chart generated for key parameters.\")\n",
    "        except Exception as e:\n",
    "            print(f\"Error generating chart: {e}\")\n",
    "\n",
    "# Print final report\n",
    "if 'final_report' in result:\n",
    "    print(\"\\nWATER QUALITY FINAL REPORT:\")\n",
    "    print(\"===========================\")\n",
    "    print(result[\"final_report\"])\n",
    "\n",
    "    # Optionally save as PDF\n",
    "    # uncomment to save PDF\n",
    "    # water_quality_workflow.run(sample_data, bypass_quality_check=True, save_pdf=True)\n"
   ]
  },
  {
   "cell_type": "code",
   "execution_count": null,
   "id": "798cea20",
   "metadata": {},
   "outputs": [],
   "source": []
  }
 ],
 "metadata": {
  "kernelspec": {
   "display_name": ".venv",
   "language": "python",
   "name": "python3"
  },
  "language_info": {
   "codemirror_mode": {
    "name": "ipython",
    "version": 3
   },
   "file_extension": ".py",
   "mimetype": "text/x-python",
   "name": "python",
   "nbconvert_exporter": "python",
   "pygments_lexer": "ipython3",
   "version": "3.11.12"
  }
 },
 "nbformat": 4,
 "nbformat_minor": 5
}
