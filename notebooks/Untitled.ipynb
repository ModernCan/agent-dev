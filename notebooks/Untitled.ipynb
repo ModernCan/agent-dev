{
 "cells": [
  {
   "cell_type": "code",
   "execution_count": 1,
   "id": "2338ddb0-05cd-461e-a27e-f6e587ae63e4",
   "metadata": {},
   "outputs": [
    {
     "name": "stdout",
     "output_type": "stream",
     "text": [
      "/Users/shervin/Documents/code/github_moderncan/agent-dev/.venv/bin/python\n"
     ]
    }
   ],
   "source": [
    "import sys\n",
    "print(sys.executable)\n"
   ]
  },
  {
   "cell_type": "code",
   "execution_count": null,
   "id": "1d94655b-2e87-4fec-8e1c-231ba40dce41",
   "metadata": {},
   "outputs": [],
   "source": []
  }
 ],
 "metadata": {
  "kernelspec": {
   "display_name": "Python (agent-dev)",
   "language": "python",
   "name": "agent-dev"
  },
  "language_info": {
   "codemirror_mode": {
    "name": "ipython",
    "version": 3
   },
   "file_extension": ".py",
   "mimetype": "text/x-python",
   "name": "python",
   "nbconvert_exporter": "python",
   "pygments_lexer": "ipython3",
   "version": "3.11.12"
  }
 },
 "nbformat": 4,
 "nbformat_minor": 5
}
