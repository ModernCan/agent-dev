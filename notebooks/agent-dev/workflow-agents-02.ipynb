{
 "cells": [
  {
   "cell_type": "markdown",
   "id": "caf13534-d5b5-48d0-80aa-cf2ce3f3293a",
   "metadata": {},
   "source": [
    "# Workflow (Part I)\n",
    "In prvious notebook, we've shown some application of the patterns using LLMs. Here, we focus on two of the patterns namely:\n",
    "\n",
    "- Prompt Chaining\n",
    "- Parallelization"
   ]
  },
  {
   "cell_type": "markdown",
   "id": "9ca63d90-0592-4853-856e-76c279120844",
   "metadata": {},
   "source": [
    "## LLM Setup\n",
    "For the following notebooks, we use LangGraph along Anthropic API."
   ]
  },
  {
   "cell_type": "code",
   "execution_count": 1,
   "id": "3876a195-bee7-4b16-a581-f70682d73979",
   "metadata": {},
   "outputs": [
    {
     "name": "stdout",
     "output_type": "stream",
     "text": [
      "  System: darwin\n",
      "  Platform: macOS-15.4.1-arm64-arm-64bit\n",
      "  Python version: 3.11.12\n",
      "  System Execution (Python) path: .venv/bin/python\n",
      "  Last update: 2025-05-19\n"
     ]
    }
   ],
   "source": [
    "# Required Modules\n",
    "\n",
    "import sys\n",
    "import os\n",
    "import logging\n",
    "import platform\n",
    "from datetime import date, datetime\n",
    "\n",
    "from dotenv import load_dotenv\n",
    "\n",
    "from langchain_anthropic import ChatAnthropic\n",
    "from pydantic import BaseModel, Field\n",
    "\n",
    "# Modules used for prompt chaining\n",
    "from typing_extensions import TypedDict\n",
    "\n",
    "from langgraph.graph import StateGraph, START, END\n",
    "from IPython.display import Image, display\n",
    "\n",
    "\n",
    "print(f\"  System: {sys.platform}\")\n",
    "print(f\"  Platform: {platform.platform()}\")\n",
    "print(f\"  Python version: {platform.python_version()}\")\n",
    "print(f\"  System Execution (Python) path: {'/'.join(sys.executable.strip('/').split('/')[-3:])}\")\n",
    "print(f\"  Last update: {date.today().strftime('%Y-%m-%d')}\")"
   ]
  },
  {
   "cell_type": "code",
   "execution_count": 2,
   "id": "9eb862da-0a89-485e-915f-3ba0684efb26",
   "metadata": {},
   "outputs": [],
   "source": [
    "# Configure logging\n",
    "logging.basicConfig(level=logging.INFO,\n",
    "                    format='%(asctime)s - %(name)s - %(levelname)s - %(message)s')\n",
    "logger = logging.getLogger(__name__)"
   ]
  },
  {
   "cell_type": "code",
   "execution_count": 3,
   "id": "805ebc65-b284-4837-989d-a706707228b3",
   "metadata": {},
   "outputs": [
    {
     "name": "stderr",
     "output_type": "stream",
     "text": [
      "2025-05-19 10:06:27,182 - __main__ - INFO - Environment variable 'ANTHROPIC_API_KEY' is loaded.\n",
      "2025-05-19 10:06:27,188 - __main__ - INFO - LLM model object is built wih 'claude-3-5-sonnet-latest'.\n"
     ]
    }
   ],
   "source": [
    "def _set_env(var: str):\n",
    "    load_dotenv()  # Load variables from .env into os.environ\n",
    "    if not os.environ.get(var):\n",
    "        raise EnvironmentError(f\"Environment variable '{var}' not found. Please set it in .env\")\n",
    "    else:\n",
    "        logger.info(f\"Environment variable '{var}' is loaded.\")\n",
    "\n",
    "# Load \n",
    "_set_env(\"ANTHROPIC_API_KEY\")\n",
    "\n",
    "model = \"claude-3-5-sonnet-latest\"\n",
    "llm = ChatAnthropic(model=model)\n",
    "logger.info(f\"LLM model object is built wih '{model}'.\")"
   ]
  },
  {
   "cell_type": "markdown",
   "id": "4fdeb386-4943-450c-8191-c92f70e134ce",
   "metadata": {},
   "source": [
    "# Prompt Chaining\n",
    "In previous notebook, we showed one of the use-cases of LLM. In this notebook, we focus on another use-case which is prompt chaining as shown in the following figure. General speaking, each LLM call processes the output of the previous one:\n",
    "\n",
    "- E.g., when decomposing a task into multiple LLM calls has benefit.\n",
    "\n",
    "<div style=\"text-align: center;\">\n",
    "   <img src=\"images/prompt_chaining.webp\" alt=\"Sample Image\" width=\"90%\">\n",
    "</div>\n",
    "\n",
    "**Note**: This is not yet an agent. Rather, LLM is just being used in a predefined code as shown in the first figure of previous notebook."
   ]
  },
  {
   "cell_type": "markdown",
   "id": "9b047f4b-3b4b-4477-9a54-52f71cb36799",
   "metadata": {},
   "source": [
    "## Example: Making a joke\n",
    "Here we focus on an examples as follows:\n",
    "\n",
    "- Take a topic, LLM makes a joke, check the joke, improve it twice\n",
    "\n",
    "Additionaly, we provide a simple gate for the case the output fails."
   ]
  },
  {
   "cell_type": "markdown",
   "id": "e943272c-feac-410b-b52c-de813022e85f",
   "metadata": {},
   "source": [
    "## Structured Output\n",
    "In the first step, we need to define what is expected as teh state of the workflow:\n",
    "\n",
    "- topic: String type\n",
    "- joke: String type\n",
    "- improved_joke: String type\n",
    "- final_joke: String type"
   ]
  },
  {
   "cell_type": "code",
   "execution_count": 4,
   "id": "a69a5e7a-33f0-415d-b634-233dd479702a",
   "metadata": {},
   "outputs": [],
   "source": [
    "# Schema for structured output\n",
    "# Graph state\n",
    "class State(TypedDict):\n",
    "    topic: str\n",
    "    joke: str\n",
    "    improved_joke: str\n",
    "    final_joke: str"
   ]
  },
  {
   "cell_type": "markdown",
   "id": "01872ebe-abcf-4e6e-b141-bd1b35117e94",
   "metadata": {},
   "source": [
    "## Node Functions\n",
    "In the next step we need to build the functions associated with the nodes in the workflow. Each function is responsible for certain task defined in the work flow\n"
   ]
  },
  {
   "cell_type": "markdown",
   "id": "2b883b56-20f9-4335-8829-6d9cc050e0c5",
   "metadata": {},
   "source": []
  },
  {
   "cell_type": "code",
   "execution_count": 5,
   "id": "4ed7ed4e-9b3a-419f-aadf-8a8f22ef2fb4",
   "metadata": {},
   "outputs": [],
   "source": [
    "# Nodes\n",
    "def generate_joke(state: State):\n",
    "    \"\"\"First LLM call to generate initial joke\"\"\"\n",
    "\n",
    "    msg = llm.invoke(f\"Write a short joke about {state['topic']}\")\n",
    "    return {\"joke\": msg.content}\n",
    "\n",
    "def improve_joke(state: State):\n",
    "    \"\"\"Second LLM call to improve the joke\"\"\"\n",
    "\n",
    "    msg = llm.invoke(f\"Make this joke funnier by adding wordplay: {state['joke']}\")\n",
    "    return {\"improved_joke\": msg.content}\n",
    "\n",
    "\n",
    "def polish_joke(state: State):\n",
    "    \"\"\"Third LLM call for final polish\"\"\"\n",
    "\n",
    "    msg = llm.invoke(f\"Add a surprising twist to this joke: {state['improved_joke']}\")\n",
    "    return {\"final_joke\": msg.content}\n",
    "\n",
    "# Conditional edge function to check if the joke has a punchline\n",
    "def check_punchline(state: State):\n",
    "    \"\"\"Gate function to check if the joke has a punchline\"\"\"\n",
    "\n",
    "    # Simple check - does the joke contain \"?\" or \"!\"\n",
    "    if \"?\" in state[\"joke\"] or \"!\" in state[\"joke\"]:\n",
    "        return \"Pass\"\n",
    "    return \"Fail\""
   ]
  },
  {
   "cell_type": "markdown",
   "id": "52e23192-b159-4742-b100-2ddbbe799cdf",
   "metadata": {},
   "source": [
    "## Workflow\n",
    "Once we built the nodes, now it's time to connect them. To this end, we use a special module called ``StateGraph`` which allows you to:\n",
    "\n",
    "- Modularize your logic.\n",
    "- Chain stateful operations.\n",
    "- Ensure type safety with ``Pydantic`` or ``TypedDict``.\n",
    "- Integrate tools or LLM calls into a consistent framework."
   ]
  },
  {
   "cell_type": "code",
   "execution_count": null,
   "id": "4c7a38c4-188c-4907-a0d5-6dba16212a58",
   "metadata": {},
   "outputs": [],
   "source": []
  },
  {
   "cell_type": "code",
   "execution_count": 6,
   "id": "acb8310b-1a63-4751-ade6-7ac6159d4a40",
   "metadata": {},
   "outputs": [
    {
     "data": {
      "image/png": "[encoded data removed]",
      "text/plain": [
       "<IPython.core.display.Image object>"
      ]
     },
     "metadata": {},
     "output_type": "display_data"
    }
   ],
   "source": [
    "\n",
    "\n",
    "\n",
    "# Build workflow\n",
    "workflow = StateGraph(State)\n",
    "\n",
    "# Add nodes\n",
    "workflow.add_node(\"generate_joke\", generate_joke)\n",
    "workflow.add_node(\"improve_joke\", improve_joke)\n",
    "workflow.add_node(\"polish_joke\", polish_joke)\n",
    "\n",
    "# Add edges to connect nodes\n",
    "workflow.add_edge(START, \"generate_joke\")\n",
    "workflow.add_conditional_edges(\n",
    "    \"generate_joke\", check_punchline, {\"Pass\": \"improve_joke\", \"Fail\": END}\n",
    ")\n",
    "workflow.add_edge(\"improve_joke\", \"polish_joke\")\n",
    "workflow.add_edge(\"polish_joke\", END)\n",
    "\n",
    "# Compile\n",
    "chain = workflow.compile()\n",
    "\n",
    "# Show workflow\n",
    "display(Image(chain.get_graph().draw_mermaid_png()))"
   ]
  },
  {
   "cell_type": "code",
   "execution_count": 7,
   "id": "c32993be-4f71-4bfd-99cd-e21214e6d1d4",
   "metadata": {},
   "outputs": [
    {
     "name": "stderr",
     "output_type": "stream",
     "text": [
      "2025-05-19 10:06:34,775 - httpx - INFO - HTTP Request: POST https://api.anthropic.com/v1/messages \"HTTP/1.1 200 OK\"\n",
      "2025-05-19 10:06:37,919 - httpx - INFO - HTTP Request: POST https://api.anthropic.com/v1/messages \"HTTP/1.1 200 OK\"\n",
      "2025-05-19 10:06:44,269 - httpx - INFO - HTTP Request: POST https://api.anthropic.com/v1/messages \"HTTP/1.1 200 OK\"\n"
     ]
    },
    {
     "name": "stdout",
     "output_type": "stream",
     "text": [
      "Initial joke:\n",
      "Here's a short cat joke:\n",
      "\n",
      "What do you call a cat that becomes a priest?\n",
      "A paw-stor! \n",
      "\n",
      "Or alternatively:\n",
      "\n",
      "Why don't cats like online shopping?\n",
      "They prefer a cat-alog!\n",
      "\n",
      "--- --- ---\n",
      "\n",
      "Improved joke:\n",
      "Here are enhanced versions with more wordplay:\n",
      "\n",
      "Version 1:\n",
      "What do you call a cat that becomes a priest?\n",
      "A paw-stor! He's really feline the spirit and spreading the good mews!\n",
      "\n",
      "Version 2:\n",
      "Why don't cats like online shopping?\n",
      "They prefer a cat-alog! They think digital stores are a total cat-astrophe and would rather shop right meow in purr-son!\n",
      "\n",
      "The added puns (feline/feeling, mews/news, catastrophe, meow/now, purr-son/person) build on the original jokes while creating a chain of related wordplay.\n",
      "\n",
      "--- --- ---\n",
      "\n",
      "Final joke:\n",
      "Here's a twist on Version 1:\n",
      "\n",
      "What do you call a cat that becomes a priest?\n",
      "A paw-stor! He's really feline the spirit and spreading the good mews... until they discovered he was actually a dog in a cat costume running an elaborate scheme to infiltrate the feline monastery! Talk about a holy terrier-r!\n",
      "\n",
      "The twist subverts expectations by revealing the supposed cat priest is actually an undercover dog, adding an element of espionage humor while maintaining the pet-related wordplay. The \"holy terrier-r\" pun adds one final layer connecting both the religious theme and the dog reveal.\n",
      "\n",
      "For Version 2:\n",
      "\n",
      "Why don't cats like online shopping?\n",
      "They prefer a cat-alog! They think digital stores are a total cat-astrophe and would rather shop right meow in purr-son... because last time they ordered online, all their packages were secretly intercepted by a gang of tech-savvy mice running a sophisticated porch pirating operation! Those rodents were real mouse-ter criminals!\n",
      "\n",
      "This twist transforms a simple shopping preference joke into an unexpected crime caper, while still maintaining the animal-themed wordplay with \"mouse-ter/master.\"\n"
     ]
    }
   ],
   "source": [
    "state = chain.invoke({\"topic\": \"cats\"})\n",
    "print(\"Initial joke:\")\n",
    "print(state[\"joke\"])\n",
    "print(\"\\n--- --- ---\\n\")\n",
    "if \"improved_joke\" in state:\n",
    "    print(\"Improved joke:\")\n",
    "    print(state[\"improved_joke\"])\n",
    "    print(\"\\n--- --- ---\\n\")\n",
    "\n",
    "    print(\"Final joke:\")\n",
    "    print(state[\"final_joke\"])\n",
    "else:\n",
    "    print(\"Joke failed quality gate - no punchline detected!\")"
   ]
  },
  {
   "cell_type": "code",
   "execution_count": null,
   "id": "424bd1c5-2193-4870-a4f3-ee9a7a7103ad",
   "metadata": {},
   "outputs": [],
   "source": []
  },
  {
   "cell_type": "markdown",
   "id": "9a82dafe-bb84-4403-a87f-110d96116f5c",
   "metadata": {},
   "source": []
  },
  {
   "cell_type": "code",
   "execution_count": null,
   "id": "8c189a0a-d984-47e0-a1e5-5ae1d7b1da76",
   "metadata": {},
   "outputs": [],
   "source": []
  },
  {
   "cell_type": "markdown",
   "id": "c4197bfc-e317-403c-8f3f-ba1664343109",
   "metadata": {},
   "source": [
    "# Parallelization\n",
    "Previously, we took a look at the prompt chaining. Here, we focus on another pattern called parallelization. Such pattern is useful for perfoming multi-tasks within a same workflow\n",
    "\n",
    "- Sub-tasks can be parallelized.\n",
    "    - E.g., when you want multi-perspectives for one task  (e.g., multi-query for RAG).\n",
    "    - E.g., when independent tasks can be performed w/ different prompts.\n",
    "\n",
    "\n",
    "<div style=\"text-align: center;\">\n",
    "   <img src=\"images/parallelization.webp\" alt=\"Sample Image\" width=\"60%\">\n",
    "</div>\n",
    "\n",
    "Example:\n",
    "\n",
    "- Take a topic, create a joke, story, and poem"
   ]
  },
  {
   "cell_type": "markdown",
   "id": "6966623a-0b32-4b81-84d5-af0d23d1ed2f",
   "metadata": {},
   "source": [
    "We follow the same procedure including, defining the structure output, Nodes functions, and build the workflow"
   ]
  },
  {
   "cell_type": "code",
   "execution_count": 8,
   "id": "7ce3203f-28fb-482f-bc20-6635234a6bf9",
   "metadata": {},
   "outputs": [],
   "source": [
    "# Graph state\n",
    "class State(TypedDict):\n",
    "    topic: str\n",
    "    joke: str\n",
    "    story: str\n",
    "    poem: str\n",
    "    combined_output: str"
   ]
  },
  {
   "cell_type": "code",
   "execution_count": 9,
   "id": "382ade1b-6b16-4c9c-95c6-514554d573fc",
   "metadata": {},
   "outputs": [],
   "source": [
    "# Nodes\n",
    "def call_llm_1(state: State):\n",
    "    \"\"\"First LLM call to generate initial joke\"\"\"\n",
    "\n",
    "    msg = llm.invoke(f\"Write a joke about {state['topic']}\")\n",
    "    return {\"joke\": msg.content}\n",
    "\n",
    "\n",
    "def call_llm_2(state: State):\n",
    "    \"\"\"Second LLM call to generate story\"\"\"\n",
    "\n",
    "    msg = llm.invoke(f\"Write a story about {state['topic']}\")\n",
    "    return {\"story\": msg.content}\n",
    "\n",
    "\n",
    "def call_llm_3(state: State):\n",
    "    \"\"\"Third LLM call to generate poem\"\"\"\n",
    "\n",
    "    msg = llm.invoke(f\"Write a poem about {state['topic']}\")\n",
    "    return {\"poem\": msg.content}\n",
    "\n",
    "\n",
    "def aggregator(state: State):\n",
    "    \"\"\"Combine the joke and story into a single output\"\"\"\n",
    "\n",
    "    combined = f\"Here's a story, joke, and poem about {state['topic']}!\\n\\n\"\n",
    "    combined += f\"STORY:\\n{state['story']}\\n\\n\"\n",
    "    combined += f\"JOKE:\\n{state['joke']}\\n\\n\"\n",
    "    combined += f\"POEM:\\n{state['poem']}\"\n",
    "    return {\"combined_output\": combined}\n"
   ]
  },
  {
   "cell_type": "code",
   "execution_count": 10,
   "id": "cd0bf875-08d6-49e9-8c2e-b3672b4ddf81",
   "metadata": {},
   "outputs": [
    {
     "data": {
      "image/png": "[encoded data removed]",
      "text/plain": [
       "<IPython.core.display.Image object>"
      ]
     },
     "metadata": {},
     "output_type": "display_data"
    }
   ],
   "source": [
    "\n",
    "# Build workflow\n",
    "parallel_builder = StateGraph(State)\n",
    "\n",
    "# Add nodes\n",
    "parallel_builder.add_node(\"call_llm_1\", call_llm_1)\n",
    "parallel_builder.add_node(\"call_llm_2\", call_llm_2)\n",
    "parallel_builder.add_node(\"call_llm_3\", call_llm_3)\n",
    "parallel_builder.add_node(\"aggregator\", aggregator)\n",
    "\n",
    "# Add edges to connect nodes\n",
    "parallel_builder.add_edge(START, \"call_llm_1\")\n",
    "parallel_builder.add_edge(START, \"call_llm_2\")\n",
    "parallel_builder.add_edge(START, \"call_llm_3\")\n",
    "parallel_builder.add_edge(\"call_llm_1\", \"aggregator\")\n",
    "parallel_builder.add_edge(\"call_llm_2\", \"aggregator\")\n",
    "parallel_builder.add_edge(\"call_llm_3\", \"aggregator\")\n",
    "parallel_builder.add_edge(\"aggregator\", END)\n",
    "parallel_workflow = parallel_builder.compile()\n",
    "\n",
    "# Show workflow\n",
    "display(Image(parallel_workflow.get_graph().draw_mermaid_png()))"
   ]
  },
  {
   "cell_type": "code",
   "execution_count": 11,
   "id": "385f2282-df7f-49f7-aae2-bd221efdc36a",
   "metadata": {},
   "outputs": [
    {
     "name": "stderr",
     "output_type": "stream",
     "text": [
      "2025-05-19 10:07:01,668 - httpx - INFO - HTTP Request: POST https://api.anthropic.com/v1/messages \"HTTP/1.1 200 OK\"\n",
      "2025-05-19 10:07:05,743 - httpx - INFO - HTTP Request: POST https://api.anthropic.com/v1/messages \"HTTP/1.1 200 OK\"\n",
      "2025-05-19 10:07:10,483 - httpx - INFO - HTTP Request: POST https://api.anthropic.com/v1/messages \"HTTP/1.1 200 OK\"\n"
     ]
    },
    {
     "name": "stdout",
     "output_type": "stream",
     "text": [
      "Here's a story, joke, and poem about cats!\n",
      "\n",
      "STORY:\n",
      "Here's a story about cats:\n",
      "\n",
      "The Unlikely Friendship\n",
      "\n",
      "Luna was a elegant black cat who lived in a cozy house at the end of Maple Street. She spent most of her days lounging in sunny windowsills and watching the world go by from her favorite perch. Life was peaceful and predictable, just the way she liked it.\n",
      "\n",
      "One rainy morning, Luna spotted an orange tabby cat huddled beneath her garden bush, trying to stay dry. Unlike her well-groomed appearance, this cat was scruffy and seemed to be a stray. Initially, Luna turned up her nose at the sight of the disheveled visitor.\n",
      "\n",
      "But as thunder crashed and the rain grew heavier, something in Luna's heart softened. She began meowing loudly at her human until they noticed the orange cat. To Luna's surprise, her human brought the stranger inside.\n",
      "\n",
      "The orange cat, whom they named Oliver, was nervous at first. Luna watched from a distance as he was dried off, fed, and given a warm blanket. Despite her usual preference for solitude, she found herself curious about this newcomer.\n",
      "\n",
      "Over the next few days, Oliver's playful nature began to emerge. He would chase toy mice across the floor and bat at dangling strings with infectious enthusiasm. Luna found herself drawn into his games, rediscovering her own playful side that had been dormant for years.\n",
      "\n",
      "As weeks passed, the unlikely pair became inseparable. Luna taught Oliver the best sunbathing spots in the house, while he showed her how fun it could be to pounce on moving shadows. They would curl up together for afternoon naps, their purrs synchronizing in perfect harmony.\n",
      "\n",
      "Luna's humans were amazed at the transformation in their usually aloof cat. She had gone from being a solitary princess to having a best friend. Every night, the two cats could be found grooming each other before settling down to sleep, Oliver's orange fur contrasting beautifully with Luna's sleek black coat.\n",
      "\n",
      "Their story became a reminder that friendship can be found in the most unexpected places, and that sometimes the best things in life come from opening your heart to change.\n",
      "\n",
      "The End.\n",
      "\n",
      "JOKE:\n",
      "Here's a cat joke for you:\n",
      "\n",
      "Why don't cats like online shopping?\n",
      "\n",
      "They prefer a cat-alog!\n",
      "\n",
      "POEM:\n",
      "Here's a poem about cats:\n",
      "\n",
      "Soft paws and whiskers, graceful and light,\n",
      "Prowling through shadows in the dark of night.\n",
      "Golden eyes gleaming with mysterious ways,\n",
      "Lounging in sunbeams through lazy days.\n",
      "\n",
      "Masters of mischief, rulers of home,\n",
      "Independent spirits, free to roam.\n",
      "Purring contentedly upon warm laps,\n",
      "Taking their daily afternoon naps.\n",
      "\n",
      "Curious creatures with elegant grace,\n",
      "Washing their paws and grooming their face.\n",
      "Sometimes aloof and sometimes sweet,\n",
      "Making our lives feel much more complete.\n",
      "\n",
      "Agile hunters with stealthy stealth,\n",
      "Bringing their humans both joy and wealth.\n",
      "In ancient times they were worshipped divine,\n",
      "Now they're our pets, yours and mine.\n",
      "\n",
      "So here's to our felines, great and small,\n",
      "The most charming creatures of them all.\n",
      "With velvet paws and playful hearts,\n",
      "They've mastered life's finest arts.\n"
     ]
    }
   ],
   "source": [
    "state = parallel_workflow.invoke({\"topic\": \"cats\"})\n",
    "print(state[\"combined_output\"])"
   ]
  },
  {
   "cell_type": "code",
   "execution_count": null,
   "id": "62d6b2ce-741c-43c6-8524-75554e2c8c20",
   "metadata": {},
   "outputs": [],
   "source": []
  },
  {
   "cell_type": "code",
   "execution_count": null,
   "id": "f530ec09-ab3d-4230-b69c-127e6004cf18",
   "metadata": {},
   "outputs": [],
   "source": []
  },
  {
   "cell_type": "code",
   "execution_count": null,
   "id": "27e8d8d3-5d1f-4de1-b7d5-98fead27d674",
   "metadata": {},
   "outputs": [],
   "source": []
  },
  {
   "cell_type": "code",
   "execution_count": null,
   "id": "e9bf6ff9-96ce-4c7a-880e-ab5728d0886e",
   "metadata": {},
   "outputs": [],
   "source": []
  },
  {
   "cell_type": "code",
   "execution_count": null,
   "id": "17be3fe0-33fa-4e8c-a9fb-767ce58ed1fa",
   "metadata": {},
   "outputs": [],
   "source": []
  },
  {
   "cell_type": "code",
   "execution_count": null,
   "id": "8bd56b0e-8b32-47f9-ae7f-ad92605d2464",
   "metadata": {},
   "outputs": [],
   "source": []
  },
  {
   "cell_type": "code",
   "execution_count": null,
   "id": "792d6d26-9a0d-4b82-8c72-d833b2b4570e",
   "metadata": {},
   "outputs": [],
   "source": []
  },
  {
   "cell_type": "code",
   "execution_count": null,
   "id": "d4d069ce-e543-4464-87d5-6a157cb26f98",
   "metadata": {},
   "outputs": [],
   "source": []
  }
 ],
 "metadata": {
  "kernelspec": {
   "display_name": "Python (agent-dev)",
   "language": "python",
   "name": "agent-dev"
  },
  "language_info": {
   "codemirror_mode": {
    "name": "ipython",
    "version": 3
   },
   "file_extension": ".py",
   "mimetype": "text/x-python",
   "name": "python",
   "nbconvert_exporter": "python",
   "pygments_lexer": "ipython3",
   "version": "3.11.12"
  }
 },
 "nbformat": 4,
 "nbformat_minor": 5
}
