{
 "cells": [
  {
   "cell_type": "markdown",
   "id": "caf13534-d5b5-48d0-80aa-cf2ce3f3293a",
   "metadata": {},
   "source": [
    "# Agent\n",
    "In prvious notebook, we've shown the workflow patterns. Here we focus on the agents, where they can plan, take actions (via tool-calling), and respond to feedback (in a loop)."
   ]
  },
  {
   "cell_type": "markdown",
   "id": "9ca63d90-0592-4853-856e-76c279120844",
   "metadata": {},
   "source": [
    "## LLM Setup\n",
    "For the following notebooks, we use LangGraph along Anthropic API."
   ]
  },
  {
   "cell_type": "code",
   "execution_count": 4,
   "id": "3876a195-bee7-4b16-a581-f70682d73979",
   "metadata": {},
   "outputs": [
    {
     "name": "stdout",
     "output_type": "stream",
     "text": [
      "  System: darwin\n",
      "  Platform: macOS-15.4.1-arm64-arm-64bit\n",
      "  Python version: 3.11.12\n",
      "  System Execution (Python) path: .venv/bin/python\n",
      "  Last update: 2025-05-19\n"
     ]
    }
   ],
   "source": [
    "# Required Modules\n",
    "\n",
    "import sys\n",
    "import os\n",
    "import logging\n",
    "import platform\n",
    "from datetime import date, datetime\n",
    "\n",
    "from dotenv import load_dotenv\n",
    "\n",
    "from langchain_anthropic import ChatAnthropic\n",
    "from pydantic import BaseModel, Field\n",
    "\n",
    "# Modules used for prompt chaining\n",
    "from typing_extensions import TypedDict\n",
    "\n",
    "from langgraph.graph import StateGraph, START, END\n",
    "from IPython.display import Image, display\n",
    "\n",
    "\n",
    "print(f\"  System: {sys.platform}\")\n",
    "print(f\"  Platform: {platform.platform()}\")\n",
    "print(f\"  Python version: {platform.python_version()}\")\n",
    "print(f\"  System Execution (Python) path: {'/'.join(sys.executable.strip('/').split('/')[-3:])}\")\n",
    "print(f\"  Last update: {date.today().strftime('%Y-%m-%d')}\")"
   ]
  },
  {
   "cell_type": "code",
   "execution_count": 5,
   "id": "9eb862da-0a89-485e-915f-3ba0684efb26",
   "metadata": {},
   "outputs": [],
   "source": [
    "# Configure logging\n",
    "logging.basicConfig(level=logging.INFO,\n",
    "                    format='%(asctime)s - %(name)s - %(levelname)s - %(message)s')\n",
    "logger = logging.getLogger(__name__)"
   ]
  },
  {
   "cell_type": "code",
   "execution_count": 6,
   "id": "805ebc65-b284-4837-989d-a706707228b3",
   "metadata": {},
   "outputs": [
    {
     "name": "stderr",
     "output_type": "stream",
     "text": [
      "2025-05-19 15:46:19,153 - __main__ - INFO - Environment variable 'ANTHROPIC_API_KEY' is loaded.\n",
      "2025-05-19 15:46:19,154 - __main__ - INFO - LLM model object is built wih 'claude-3-5-sonnet-latest'.\n"
     ]
    }
   ],
   "source": [
    "def _set_env(var: str):\n",
    "    load_dotenv()  # Load variables from .env into os.environ\n",
    "    if not os.environ.get(var):\n",
    "        raise EnvironmentError(f\"Environment variable '{var}' not found. Please set it in .env\")\n",
    "    else:\n",
    "        logger.info(f\"Environment variable '{var}' is loaded.\")\n",
    "\n",
    "# Load \n",
    "_set_env(\"ANTHROPIC_API_KEY\")\n",
    "\n",
    "model = \"claude-3-5-sonnet-latest\"\n",
    "llm = ChatAnthropic(model=model)\n",
    "logger.info(f\"LLM model object is built wih '{model}'.\")"
   ]
  },
  {
   "cell_type": "markdown",
   "id": "4fdeb386-4943-450c-8191-c92f70e134ce",
   "metadata": {},
   "source": [
    "# Routing\n",
    "Agents plan, take actions (via tool-calling), and respond to feedback (in a loop).\n",
    "\n",
    "- E.g., when solving open-ended problems that you cannot lay out as a workflow\n",
    "\n",
    "\n",
    "<div style=\"text-align: center;\">\n",
    "   <img src=\"images/agent.webp\" alt=\"Sample Image\" width=\"50%\">\n",
    "</div>\n"
   ]
  },
  {
   "cell_type": "markdown",
   "id": "9b047f4b-3b4b-4477-9a54-52f71cb36799",
   "metadata": {},
   "source": [
    "## Example:\n",
    "\n",
    "- An agent which is capable of peforming basic arithmetics via tool calling."
   ]
  },
  {
   "cell_type": "markdown",
   "id": "38eb9f37-f540-4318-8cac-102de77edaf9",
   "metadata": {},
   "source": [
    "## Tool Definition & Binding\n",
    "Each tool is a simple Python function wrapped with the ``@tool`` decorator to expose it for use by the LLM. In addition, the tools are made available to the LLM through ``bind_tools``, enabling the LLM to call them during reasoning steps.\n"
   ]
  },
  {
   "cell_type": "code",
   "execution_count": 7,
   "id": "dffe61a4",
   "metadata": {},
   "outputs": [],
   "source": [
    "from langchain_core.tools import tool\n",
    "\n",
    "# Define tools\n",
    "@tool\n",
    "def multiply(a: int, b: int) -> int:\n",
    "    \"\"\"Multiply a and b.\n",
    "\n",
    "    Args:\n",
    "        a: first int\n",
    "        b: second int\n",
    "    \"\"\"\n",
    "    return a * b\n",
    "\n",
    "\n",
    "@tool\n",
    "def add(a: int, b: int) -> int:\n",
    "    \"\"\"Adds a and b.\n",
    "\n",
    "    Args:\n",
    "        a: first int\n",
    "        b: second int\n",
    "    \"\"\"\n",
    "    return a + b\n",
    "\n",
    "\n",
    "@tool\n",
    "def divide(a: int, b: int) -> float:\n",
    "    \"\"\"Divide a and b.\n",
    "\n",
    "    Args:\n",
    "        a: first int\n",
    "        b: second int\n",
    "    \"\"\"\n",
    "    return a / b\n",
    "\n",
    "\n",
    "# Augment the LLM with tools\n",
    "tools = [add, multiply, divide]\n",
    "tools_by_name = {tool.name: tool for tool in tools}\n",
    "llm_with_tools = llm.bind_tools(tools)"
   ]
  },
  {
   "cell_type": "code",
   "execution_count": null,
   "id": "51429608",
   "metadata": {},
   "outputs": [],
   "source": []
  },
  {
   "cell_type": "code",
   "execution_count": 8,
   "id": "fe795a46",
   "metadata": {},
   "outputs": [],
   "source": [
    "from langgraph.graph import MessagesState\n",
    "from langchain_core.messages import ToolMessage, SystemMessage, HumanMessage\n",
    "from typing_extensions import Literal\n",
    "\n",
    "# Nodes\n",
    "def llm_call(state: MessagesState):\n",
    "    \"\"\"LLM decides whether to call a tool or not\"\"\"\n",
    "\n",
    "    return {\n",
    "        \"messages\": [\n",
    "            llm_with_tools.invoke(\n",
    "                [\n",
    "                    SystemMessage(\n",
    "                        content=\"You are a helpful assistant tasked with performing arithmetic on a set of inputs.\"\n",
    "                    )\n",
    "                ]\n",
    "                + state[\"messages\"]\n",
    "            )\n",
    "        ]\n",
    "    }\n",
    "\n",
    "\n",
    "def tool_node(state: dict):\n",
    "    \"\"\"Performs the tool call\"\"\"\n",
    "\n",
    "    result = []\n",
    "    for tool_call in state[\"messages\"][-1].tool_calls:\n",
    "        tool = tools_by_name[tool_call[\"name\"]]\n",
    "        observation = tool.invoke(tool_call[\"args\"])\n",
    "        result.append(ToolMessage(content=observation, tool_call_id=tool_call[\"id\"]))\n",
    "    return {\"messages\": result}\n",
    "\n",
    "\n",
    "# Conditional edge function to route to the tool node or end based upon whether the LLM made a tool call\n",
    "def should_continue(state: MessagesState) -> Literal[\"environment\", END]:\n",
    "    \"\"\"Decide if we should continue the loop or stop based upon whether the LLM made a tool call\"\"\"\n",
    "\n",
    "    messages = state[\"messages\"]\n",
    "    last_message = messages[-1]\n",
    "    # If the LLM makes a tool call, then perform an action\n",
    "    if last_message.tool_calls:\n",
    "        return \"Action\"\n",
    "    # Otherwise, we stop (reply to the user)\n",
    "    return END"
   ]
  },
  {
   "cell_type": "code",
   "execution_count": 9,
   "id": "9fe5e4ae",
   "metadata": {},
   "outputs": [
    {
     "data": {
      "image/png": "[encoded data removed]",
      "text/plain": [
       "<IPython.core.display.Image object>"
      ]
     },
     "metadata": {},
     "output_type": "display_data"
    }
   ],
   "source": [
    "# Build workflow\n",
    "agent_builder = StateGraph(MessagesState)\n",
    "\n",
    "# Add nodes\n",
    "agent_builder.add_node(\"llm_call\", llm_call)\n",
    "agent_builder.add_node(\"environment\", tool_node)\n",
    "\n",
    "# Add edges to connect nodes\n",
    "agent_builder.add_edge(START, \"llm_call\")\n",
    "agent_builder.add_conditional_edges(\n",
    "    \"llm_call\",\n",
    "    should_continue,\n",
    "    {\n",
    "        # Name returned by should_continue : Name of next node to visit\n",
    "        \"Action\": \"environment\",\n",
    "        END: END,\n",
    "    },\n",
    ")\n",
    "agent_builder.add_edge(\"environment\", \"llm_call\")\n",
    "\n",
    "# Compile the agent\n",
    "agent = agent_builder.compile()\n",
    "\n",
    "# Show the agent\n",
    "display(Image(agent.get_graph(xray=True).draw_mermaid_png()))"
   ]
  },
  {
   "cell_type": "code",
   "execution_count": 10,
   "id": "02c3cced",
   "metadata": {},
   "outputs": [
    {
     "name": "stderr",
     "output_type": "stream",
     "text": [
      "2025-05-19 15:50:20,726 - httpx - INFO - HTTP Request: POST https://api.anthropic.com/v1/messages \"HTTP/1.1 200 OK\"\n",
      "2025-05-19 15:50:25,967 - httpx - INFO - HTTP Request: POST https://api.anthropic.com/v1/messages \"HTTP/1.1 200 OK\"\n",
      "2025-05-19 15:50:34,878 - httpx - INFO - HTTP Request: POST https://api.anthropic.com/v1/messages \"HTTP/1.1 200 OK\"\n"
     ]
    },
    {
     "name": "stdout",
     "output_type": "stream",
     "text": [
      "================================\u001b[1m Human Message \u001b[0m=================================\n",
      "\n",
      "Add 3 and 4. Then, take the output and multiple by 4.\n",
      "==================================\u001b[1m Ai Message \u001b[0m==================================\n",
      "\n",
      "[{'text': \"I'll help you with that calculation. Let's break it down into steps:\\n\\n1. First, let's add 3 and 4:\", 'type': 'text'}, {'id': 'toolu_014tY4Pz55Qwmu5sYzNyCP5X', 'input': {'a': 3, 'b': 4}, 'name': 'add', 'type': 'tool_use'}]\n",
      "Tool Calls:\n",
      "  add (toolu_014tY4Pz55Qwmu5sYzNyCP5X)\n",
      " Call ID: toolu_014tY4Pz55Qwmu5sYzNyCP5X\n",
      "  Args:\n",
      "    a: 3\n",
      "    b: 4\n",
      "=================================\u001b[1m Tool Message \u001b[0m=================================\n",
      "\n",
      "7\n",
      "==================================\u001b[1m Ai Message \u001b[0m==================================\n",
      "\n",
      "[{'text': \"2. Now, let's multiply the result (7) by 4:\", 'type': 'text'}, {'id': 'toolu_01BxQsNHxfEof1wECURhYewE', 'input': {'a': 7, 'b': 4}, 'name': 'multiply', 'type': 'tool_use'}]\n",
      "Tool Calls:\n",
      "  multiply (toolu_01BxQsNHxfEof1wECURhYewE)\n",
      " Call ID: toolu_01BxQsNHxfEof1wECURhYewE\n",
      "  Args:\n",
      "    a: 7\n",
      "    b: 4\n",
      "=================================\u001b[1m Tool Message \u001b[0m=================================\n",
      "\n",
      "28\n",
      "==================================\u001b[1m Ai Message \u001b[0m==================================\n",
      "\n",
      "The final result is 28. Here's the breakdown of the calculation:\n",
      "- 3 + 4 = 7\n",
      "- 7 × 4 = 28\n"
     ]
    }
   ],
   "source": [
    "messages = [HumanMessage(content=\"Add 3 and 4. Then, take the output and multiple by 4.\")]\n",
    "messages = agent.invoke({\"messages\": messages})\n",
    "for m in messages[\"messages\"]:\n",
    "    m.pretty_print()"
   ]
  },
  {
   "cell_type": "code",
   "execution_count": null,
   "id": "792d6d26-9a0d-4b82-8c72-d833b2b4570e",
   "metadata": {},
   "outputs": [],
   "source": []
  },
  {
   "cell_type": "code",
   "execution_count": null,
   "id": "d4d069ce-e543-4464-87d5-6a157cb26f98",
   "metadata": {},
   "outputs": [],
   "source": []
  },
  {
   "cell_type": "code",
   "execution_count": null,
   "id": "d83a137e-b852-4a6c-9c65-a448f41b8ee6",
   "metadata": {},
   "outputs": [],
   "source": []
  }
 ],
 "metadata": {
  "kernelspec": {
   "display_name": ".venv",
   "language": "python",
   "name": "python3"
  },
  "language_info": {
   "codemirror_mode": {
    "name": "ipython",
    "version": 3
   },
   "file_extension": ".py",
   "mimetype": "text/x-python",
   "name": "python",
   "nbconvert_exporter": "python",
   "pygments_lexer": "ipython3",
   "version": "3.11.12"
  }
 },
 "nbformat": 4,
 "nbformat_minor": 5
}
